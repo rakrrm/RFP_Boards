# import statements
from snowflake.snowpark.session import Session
from snowflake.snowpark.version import VERSION
import json
import datetime
from snowflake.connector import connect

import requests

import os

MONDAY_API_TOKEN = os.environ.get('MONDAY_API_TOKEN')
SNOWFLAKE_USER = os.environ.get('SNOWFLAKE_USER')
SNOWFLAKE_PASSWORD = os.environ.get('SNOWFLAKE_PASSWORD')


##Connecting to Monday.com to get the data

url = "https://api.monday.com/v2"

payload="{ \"query\": \"query {boards(ids: 3600527751) {groups (ids:\\\"group_title\\\") {title items_page {items { id name column_values {value text} } }}}}\"}"

headers = {
  'Authorization': MONDAY_API_TOKEN,
  'Content-Type': 'application/json',
}

response = requests.post( url, headers=headers, data=payload)

str1 = response.text
str2 = str1.replace("null",'""')

dict1 =eval(str2)

# Read Credentials to connect to Snowflake Database
connection_parameters = {'account': 'ZN67370.us-east4.gcp',
                             'user': SNOWFLAKE_USER,
                             'password': SNOWFLAKE_PASSWORD,
                             'warehouse': 'COMPUTE_WH',
                             'database': 'RFP_DB',
                             'schema': 'RFP_Schema'}

session = Session.builder.configs(connection_parameters).create()

# Fetching data from Monday.com and Formatting
no_of_records = len(dict1["data"]["boards"][0]["groups"][0]["items_page"]["items"])
total =[]
for i in range(no_of_records):
    item = str(dict1["data"]["boards"][0]["groups"][0]["items_page"]["items"][i]["name"])
    lst = []
    lst.append(item)
    for val in range(29):
        if val in (8,14,20):
            Date_col = str(dict1["data"]["boards"][0]["groups"][0]["items_page"]["items"][i]["column_values"][val]["text"])
            try:
                Date_col_FMT = datetime.datetime.strptime(Date_col, "%Y-%m-%d").date()
            except ValueError:
                Date_col_FMT = None
            lst.append(Date_col_FMT)
        else:
            lst.append(str((dict1["data"]["boards"][0]["groups"][0]["items_page"]["items"][i]["column_values"][val]["text"])))
    total.append(lst)

# define schema for snowpark dataframe
from snowflake.snowpark.types import IntegerType, StringType, StructType, StructField,DateType
schema = StructType([StructField("Item", StringType()), StructField("Item_2", StringType()),
StructField("Final Proposal File", StringType()),StructField("Media Channels", StringType()),StructField("Practice Areas", StringType()),
StructField("RFP Owner", StringType()),StructField("AE", StringType()),StructField("Salesperson Submitted", StringType()),StructField("Status", StringType()),
StructField("Due Date", DateType()),StructField("Salesforce Link", StringType()),StructField("Description", StringType()),
StructField("Likelihood of Closing", StringType()),StructField("Proposal Type", StringType()),StructField("CATS", StringType()),
StructField("Date of Next Meeting", DateType()),StructField("CACS", StringType()),StructField("Client Website", StringType()),
StructField("National or Local", StringType()),StructField("Desired Markets", StringType()),StructField("Media Types Requested", StringType()),
StructField("Potential Start Date", DateType()),StructField("Budget Range", StringType()),StructField("Client Objectives", StringType()),
StructField("Compaign Goals", StringType()),StructField("Must Haves", StringType()),StructField("Current Creatives Running", StringType()),
StructField("Additional Notes", StringType()),StructField("RFP Request Document", StringType()),StructField("Salesperson Email", StringType())

])

conn = connect(**connection_parameters)

# Execute a TRUNCATE statement
cursor = conn.cursor()
delete_query = """
TRUNCATE TABLE RFP_DB.RFP_schema.RFP
"""
cursor.execute(delete_query)
conn.commit()

##Loading the data to snowflake database
for i in range(no_of_records):
  df1 = session.create_dataframe([total[i]], schema)
  #write data to snowflake database
  df1.write.mode("append").save_as_table("RFP_DB.RFP_SCHEMA.RFP")

